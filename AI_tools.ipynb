{
  "nbformat": 4,
  "nbformat_minor": 0,
  "metadata": {
    "colab": {
      "provenance": [],
      "authorship_tag": "ABX9TyO+6VaIXqCskPiByCSQXkhY",
      "include_colab_link": true
    },
    "kernelspec": {
      "name": "python3",
      "display_name": "Python 3"
    },
    "language_info": {
      "name": "python"
    }
  },
  "cells": [
    {
      "cell_type": "markdown",
      "metadata": {
        "id": "view-in-github",
        "colab_type": "text"
      },
      "source": [
        "<a href=\"https://colab.research.google.com/github/junkyuhufs/Class2023Fall/blob/main/AI_tools.ipynb\" target=\"_parent\"><img src=\"https://colab.research.google.com/assets/colab-badge.svg\" alt=\"Open In Colab\"/></a>"
      ]
    },
    {
      "cell_type": "markdown",
      "source": [
        "#Notable AI tools"
      ],
      "metadata": {
        "id": "58x7p8eBm4mJ"
      }
    },
    {
      "cell_type": "markdown",
      "source": [
        "##Generative AI\n",
        "###ChatGPT\n",
        "###Google Bard"
      ],
      "metadata": {
        "id": "73Ps7oFjm_A_"
      }
    },
    {
      "cell_type": "markdown",
      "source": [
        "##Text to Image\n",
        "###https://replicate.com/\n",
        "###https://www.midjourney.com/\n",
        "###https://openai.com/dall-e-2"
      ],
      "metadata": {
        "id": "2b3vtGr5nIyf"
      }
    },
    {
      "cell_type": "markdown",
      "source": [
        "##Text to video\n",
        "###https://www.steve.ai/"
      ],
      "metadata": {
        "id": "rW-x33NjnPOf"
      }
    },
    {
      "cell_type": "markdown",
      "source": [
        "##Speech recogntion\n",
        "###https://openai.com/research/whisper"
      ],
      "metadata": {
        "id": "Tip_cSwNnUdw"
      }
    }
  ]
}